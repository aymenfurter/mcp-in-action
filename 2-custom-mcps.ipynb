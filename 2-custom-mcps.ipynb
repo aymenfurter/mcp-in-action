{
 "cells": [
  {
   "cell_type": "markdown",
   "id": "5a734ae9",
   "metadata": {},
   "source": [
    "# Building Custom MCP Servers\n",
    "\n",
    "Create your own MCP tool server for quality control defect logging."
   ]
  },
  {
   "cell_type": "code",
   "execution_count": 9,
   "id": "cfa2cf11",
   "metadata": {},
   "outputs": [
    {
     "name": "stdout",
     "output_type": "stream",
     "text": [
      "✓ Dependencies installed\n"
     ]
    },
    {
     "name": "stderr",
     "output_type": "stream",
     "text": [
      "\n",
      "\u001b[1m[\u001b[0m\u001b[34;49mnotice\u001b[0m\u001b[1;39;49m]\u001b[0m\u001b[39;49m A new release of pip is available: \u001b[0m\u001b[31;49m25.0.1\u001b[0m\u001b[39;49m -> \u001b[0m\u001b[32;49m25.2\u001b[0m\n",
      "\u001b[1m[\u001b[0m\u001b[34;49mnotice\u001b[0m\u001b[1;39;49m]\u001b[0m\u001b[39;49m To update, run: \u001b[0m\u001b[32;49mpip install --upgrade pip\u001b[0m\n"
     ]
    }
   ],
   "source": [
    "import os, subprocess, sys, time, threading, re, json\n",
    "from pathlib import Path\n",
    "from dotenv import load_dotenv\n",
    "from datetime import datetime\n",
    "\n",
    "subprocess.check_call([sys.executable, \"-m\", \"pip\", \"install\", \"-q\", \"python-dotenv\", \"fastmcp\", \"azure-ai-projects==1.0.0\", \"azure-ai-agents==1.2.0b4\", \"azure-identity\"])\n",
    "load_dotenv('.env')\n",
    "print(\"✓ Dependencies installed\")"
   ]
  },
  {
   "cell_type": "markdown",
   "id": "dec9f22a",
   "metadata": {},
   "source": [
    "## 1. Business Logic - Quality Management System\n",
    "In-memory defect tracking."
   ]
  },
  {
   "cell_type": "code",
   "execution_count": 10,
   "id": "a5156f35",
   "metadata": {},
   "outputs": [
    {
     "name": "stdout",
     "output_type": "stream",
     "text": [
      "✓ QMS initialized\n"
     ]
    }
   ],
   "source": [
    "class QualityManagementSystem:\n",
    "    def __init__(self):\n",
    "        self.defects = []\n",
    "        self.defect_counter = 1000\n",
    "    \n",
    "    def log_defect(self, description: str, severity: str = \"medium\"):\n",
    "        defect_id = f\"DEF-{self.defect_counter}\"\n",
    "        self.defect_counter += 1\n",
    "        defect = {\"defect_id\": defect_id, \"timestamp\": datetime.now().isoformat(), \"description\": description, \"severity\": severity, \"status\": \"open\"}\n",
    "        self.defects.append(defect)\n",
    "        return defect\n",
    "    \n",
    "    def get_stats(self):\n",
    "        return {\"total\": len(self.defects), \"open\": len([d for d in self.defects if d[\"status\"] == \"open\"])}\n",
    "\n",
    "qms = QualityManagementSystem()\n",
    "print(\"✓ QMS initialized\")"
   ]
  },
  {
   "cell_type": "markdown",
   "id": "074abe34",
   "metadata": {},
   "source": [
    "## 2. MCP Server - Expose Tools\n",
    "Wrap business logic as MCP tools."
   ]
  },
  {
   "cell_type": "code",
   "execution_count": 11,
   "id": "341228e5",
   "metadata": {},
   "outputs": [
    {
     "name": "stdout",
     "output_type": "stream",
     "text": [
      "✓ MCP server created with log_defect, get_defect_summary\n"
     ]
    }
   ],
   "source": [
    "from fastmcp import FastMCP\n",
    "\n",
    "mcp = FastMCP(name=\"quality-control\")\n",
    "\n",
    "@mcp.tool()\n",
    "def log_defect(description: str, severity: str = \"medium\") -> dict:\n",
    "    \"\"\"Log manufacturing defect. Args: description (str), severity (low/medium/high)\"\"\"\n",
    "    if severity not in [\"low\", \"medium\", \"high\"]:\n",
    "        return {\"success\": False, \"error\": \"Invalid severity\"}\n",
    "    defect = qms.log_defect(description, severity)\n",
    "    return {\"success\": True, \"defect_id\": defect[\"defect_id\"], \"message\": f\"Defect {defect['defect_id']} logged\"}\n",
    "\n",
    "@mcp.tool()\n",
    "def get_defect_summary() -> dict:\n",
    "    \"\"\"Get defect statistics and recent entries\"\"\"\n",
    "    stats = qms.get_stats()\n",
    "    return {\"statistics\": stats, \"recent\": qms.defects[-5:], \"message\": f\"{stats['total']} defects, {stats['open']} open\"}\n",
    "\n",
    "print(\"✓ MCP server created with log_defect, get_defect_summary\")"
   ]
  },
  {
   "cell_type": "markdown",
   "id": "4a7ad428",
   "metadata": {},
   "source": [
    "## 3. Start Local Server + Azure Dev Tunnel\n",
    "Expose MCP server publicly."
   ]
  },
  {
   "cell_type": "code",
   "execution_count": null,
   "id": "7f51636d",
   "metadata": {},
   "outputs": [],
   "source": [
    "server_port = 8765\n",
    "\n",
    "def run_server():\n",
    "    mcp.run(transport=\"http\", port=server_port, host=\"127.0.0.1\")\n",
    "\n",
    "threading.Thread(target=run_server, daemon=True).start()\n",
    "time.sleep(2)\n",
    "print(f\"✓ MCP server running on http://127.0.0.1:{server_port}/mcp\")\n",
    "\n",
    "# Create Azure Dev Tunnel\n",
    "host_process = subprocess.Popen(\n",
    "    [\"/home/vscode/bin/devtunnel\", \"host\", \"-p\", str(server_port), \"--allow-anonymous\"],\n",
    "    stdout=subprocess.PIPE, stderr=subprocess.STDOUT, text=True\n",
    ")\n",
    "\n",
    "start_time, public_url = time.time(), None\n",
    "while True:\n",
    "    line = host_process.stdout.readline()\n",
    "    if not line:\n",
    "        time.sleep(0.1)\n",
    "        if time.time() - start_time > 30: break\n",
    "        continue\n",
    "    match = re.search(r'https://[a-z0-9\\-]+(?:\\.[a-z0-9\\-]+)?\\.devtunnels\\.ms', line)\n",
    "    if match:\n",
    "        public_url = match.group(0)\n",
    "        break\n",
    "\n",
    "mcp_endpoint = f\"{public_url}/mcp\"\n",
    "print(f\"✓ Public MCP endpoint: {mcp_endpoint}\")"
   ]
  },
  {
   "cell_type": "markdown",
   "id": "86917dd7",
   "metadata": {},
   "source": [
    "## 4. Connect Azure AI Agent to MCP Server\n",
    "Agent discovers tools automatically."
   ]
  },
  {
   "cell_type": "code",
   "execution_count": 13,
   "id": "6a778d63",
   "metadata": {},
   "outputs": [
    {
     "name": "stdout",
     "output_type": "stream",
     "text": [
      "✓ Agent asst_uLEtpyt8EbzFMZbyMaUsDJw3 connected to MCP server\n"
     ]
    }
   ],
   "source": [
    "from azure.identity import DefaultAzureCredential\n",
    "from azure.ai.projects import AIProjectClient\n",
    "from azure.ai.agents.models import McpTool, SubmitToolApprovalAction, RequiredMcpToolCall, ToolApproval, ListSortOrder\n",
    "\n",
    "project_client = AIProjectClient(endpoint=os.environ[\"PROJECT_ENDPOINT\"], credential=DefaultAzureCredential())\n",
    "\n",
    "mcp_tool = McpTool(server_label=\"quality_control\", server_url=mcp_endpoint, allowed_tools=[\"log_defect\", \"get_defect_summary\"])\n",
    "\n",
    "agent = project_client.agents.create_agent(\n",
    "    model=os.environ[\"MODEL_DEPLOYMENT_NAME\"],\n",
    "    name=\"qc-agent\",\n",
    "    instructions=\"Help operators log defects. Extract description/severity. Severity: low (cosmetic), medium (functional), high (critical).\",\n",
    "    tools=mcp_tool.definitions\n",
    ")\n",
    "\n",
    "print(f\"✓ Agent {agent.id} connected to MCP server\")"
   ]
  },
  {
   "cell_type": "markdown",
   "id": "5ebcc041",
   "metadata": {},
   "source": [
    "## 5. Test Agent - Log Defect via Natural Language"
   ]
  },
  {
   "cell_type": "code",
   "execution_count": 14,
   "id": "c4079788",
   "metadata": {},
   "outputs": [
    {
     "name": "stdout",
     "output_type": "stream",
     "text": [
      "OPERATOR: Record defect: Paint coating uneven on left panel side, affecting finish quality.\n",
      "AGENT: Defect logged:\n",
      "- Description: Paint coating uneven on left panel side, affecting finish quality.\n",
      "- Severity: Medium (functional issue).\n",
      "\n",
      "Let me know if you need to log more defects or view defect summaries.\n"
     ]
    }
   ],
   "source": [
    "thread = project_client.agents.threads.create()\n",
    "\n",
    "project_client.agents.messages.create(\n",
    "    thread_id=thread.id,\n",
    "    role=\"user\",\n",
    "    content=\"Record defect: Paint coating uneven on left panel side, affecting finish quality.\"\n",
    ")\n",
    "\n",
    "run = project_client.agents.runs.create(thread_id=thread.id, agent_id=agent.id, tool_resources=mcp_tool.resources)\n",
    "\n",
    "while run.status in [\"queued\", \"in_progress\", \"requires_action\"]:\n",
    "    time.sleep(1)\n",
    "    run = project_client.agents.runs.get(thread_id=thread.id, run_id=run.id)\n",
    "    \n",
    "    if run.status == \"requires_action\" and isinstance(run.required_action, SubmitToolApprovalAction):\n",
    "        approvals = [ToolApproval(tool_call_id=tc.id, approve=True, headers=mcp_tool.headers) \n",
    "                    for tc in run.required_action.submit_tool_approval.tool_calls \n",
    "                    if isinstance(tc, RequiredMcpToolCall)]\n",
    "        if approvals:\n",
    "            run = project_client.agents.runs.submit_tool_outputs(thread_id=thread.id, run_id=run.id, tool_approvals=approvals)\n",
    "\n",
    "messages = list(project_client.agents.messages.list(thread_id=thread.id, order=ListSortOrder.ASCENDING))\n",
    "\n",
    "for msg in messages:\n",
    "    role = \"OPERATOR\" if msg.role == \"user\" else \"AGENT\"\n",
    "    if msg.text_messages:\n",
    "        print(f\"{role}: {msg.text_messages[-1].text.value}\")"
   ]
  },
  {
   "cell_type": "markdown",
   "id": "f94f7095",
   "metadata": {},
   "source": [
    "## 6. Get Summary Statistics"
   ]
  },
  {
   "cell_type": "code",
   "execution_count": 15,
   "id": "0d65f766",
   "metadata": {},
   "outputs": [
    {
     "name": "stdout",
     "output_type": "stream",
     "text": [
      "Defect Summary:\n",
      "- Total defects: 1\n",
      "- Open defects: 1\n",
      "\n",
      "Recent Defect:\n",
      "- ID: DEF-1000\n",
      "- Description: Paint coating uneven on left panel side, affecting finish quality.\n",
      "- Severity: Medium\n",
      "- Status: Open\n",
      "- Logged: 2025-10-07\n",
      "\n",
      "Let me know if you need details on this defect, wish to update a defect, or want to log another issue.\n"
     ]
    }
   ],
   "source": [
    "project_client.agents.messages.create(thread_id=thread.id, role=\"user\", content=\"Show defect summary\")\n",
    "\n",
    "run = project_client.agents.runs.create(thread_id=thread.id, agent_id=agent.id, tool_resources=mcp_tool.resources)\n",
    "\n",
    "while run.status in [\"queued\", \"in_progress\", \"requires_action\"]:\n",
    "    time.sleep(1)\n",
    "    run = project_client.agents.runs.get(thread_id=thread.id, run_id=run.id)\n",
    "    if run.status == \"requires_action\" and isinstance(run.required_action, SubmitToolApprovalAction):\n",
    "        approvals = [ToolApproval(tool_call_id=tc.id, approve=True, headers=mcp_tool.headers) \n",
    "                    for tc in run.required_action.submit_tool_approval.tool_calls if isinstance(tc, RequiredMcpToolCall)]\n",
    "        if approvals:\n",
    "            run = project_client.agents.runs.submit_tool_outputs(thread_id=thread.id, run_id=run.id, tool_approvals=approvals)\n",
    "\n",
    "messages = list(project_client.agents.messages.list(thread_id=thread.id, order=ListSortOrder.ASCENDING))\n",
    "if messages[-1].role == \"assistant\" and messages[-1].text_messages:\n",
    "    print(messages[-1].text_messages[-1].text.value)"
   ]
  },
  {
   "cell_type": "markdown",
   "id": "0690e989",
   "metadata": {},
   "source": [
    "## Cleanup"
   ]
  },
  {
   "cell_type": "code",
   "execution_count": 16,
   "id": "081f570d",
   "metadata": {},
   "outputs": [
    {
     "name": "stdout",
     "output_type": "stream",
     "text": [
      "✓ Cleanup complete\n"
     ]
    }
   ],
   "source": [
    "project_client.close()\n",
    "subprocess.run([\"/home/vscode/bin/devtunnel\", \"delete-all\"], capture_output=True, timeout=10)\n",
    "print(\"✓ Cleanup complete\")"
   ]
  },
  {
   "cell_type": "markdown",
   "id": "6ff68a33",
   "metadata": {},
   "source": [
    "## Summary\n",
    "\n",
    "**What We Built:**\n",
    "1. **QMS** - Business logic (Python class)\n",
    "2. **MCP Server** - Tool wrapper (FastMCP)\n",
    "3. **Dev Tunnel** - Public endpoint (Azure Dev Tunnels)\n",
    "4. **AI Agent** - Natural language interface (Azure AI Foundry)\n",
    "\n",
    "**Key Concept:** Wrap any business logic as MCP tools. Agents discover and call them automatically.\n",
    "\n",
    "**Benefits:**\n",
    "- Decoupled: Update tools without changing agents\n",
    "- Reusable: One MCP server serves multiple agents\n",
    "- Natural: Operators use plain language, not forms"
   ]
  }
 ],
 "metadata": {
  "kernelspec": {
   "display_name": "Python 3",
   "language": "python",
   "name": "python3"
  },
  "language_info": {
   "codemirror_mode": {
    "name": "ipython",
    "version": 3
   },
   "file_extension": ".py",
   "mimetype": "text/x-python",
   "name": "python",
   "nbconvert_exporter": "python",
   "pygments_lexer": "ipython3",
   "version": "3.12.11"
  }
 },
 "nbformat": 4,
 "nbformat_minor": 5
}
